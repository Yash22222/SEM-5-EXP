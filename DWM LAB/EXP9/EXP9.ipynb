{
  "nbformat": 4,
  "nbformat_minor": 0,
  "metadata": {
    "colab": {
      "provenance": []
    },
    "kernelspec": {
      "name": "python3",
      "display_name": "Python 3"
    },
    "language_info": {
      "name": "python"
    }
  },
  "cells": [
    {
      "cell_type": "markdown",
      "source": [
        " #### Experiment 9 - Implementation of any one association mining algorithm using languages like Python"
      ],
      "metadata": {
        "id": "59mz0gLJQPuq"
      }
    },
    {
      "cell_type": "code",
      "execution_count": 63,
      "metadata": {
        "colab": {
          "base_uri": "https://localhost:8080/"
        },
        "id": "7_kk2WnbLG37",
        "outputId": "28c293c1-05ed-4e03-caae-0e5482f96e2b"
      },
      "outputs": [
        {
          "output_type": "stream",
          "name": "stderr",
          "text": [
            "/usr/local/lib/python3.10/dist-packages/ipykernel/ipkernel.py:283: DeprecationWarning: `should_run_async` will not call `transform_cell` automatically in the future. Please pass the result to `transformed_cell` argument and any exception that happen during thetransform in `preprocessing_exc_tuple` in IPython 7.17 and above.\n",
            "  and should_run_async(code)\n"
          ]
        }
      ],
      "source": [
        "import pandas as pd\n",
        "from mlxtend.frequent_patterns import apriori\n",
        "from mlxtend.frequent_patterns import association_rules"
      ]
    },
    {
      "cell_type": "code",
      "source": [
        "# sample transaction dataset\n",
        "data = {'Transaction': ['T1', 'T2', 'T3', 'T4', 'T5'],\n",
        "        'Items': [['A', 'B', 'D'],\n",
        "                  ['B', 'C', 'E'],\n",
        "                  ['A', 'B', 'C', 'E'],\n",
        "                  ['A', 'E'],\n",
        "                  ['A', 'B', 'C']]}"
      ],
      "metadata": {
        "colab": {
          "base_uri": "https://localhost:8080/"
        },
        "id": "kuSe0Cy9LP2S",
        "outputId": "e19486dc-edb5-461d-8695-d9bb4150d6af"
      },
      "execution_count": 72,
      "outputs": [
        {
          "output_type": "stream",
          "name": "stderr",
          "text": [
            "/usr/local/lib/python3.10/dist-packages/ipykernel/ipkernel.py:283: DeprecationWarning: `should_run_async` will not call `transform_cell` automatically in the future. Please pass the result to `transformed_cell` argument and any exception that happen during thetransform in `preprocessing_exc_tuple` in IPython 7.17 and above.\n",
            "  and should_run_async(code)\n"
          ]
        }
      ]
    },
    {
      "cell_type": "code",
      "source": [
        "df.info()"
      ],
      "metadata": {
        "colab": {
          "base_uri": "https://localhost:8080/"
        },
        "id": "EwLs2D6aN0ni",
        "outputId": "6c4db443-75a3-45d7-868c-7b8089e014d5"
      },
      "execution_count": 73,
      "outputs": [
        {
          "output_type": "stream",
          "name": "stdout",
          "text": [
            "<class 'pandas.core.frame.DataFrame'>\n",
            "RangeIndex: 10 entries, 0 to 9\n",
            "Data columns (total 2 columns):\n",
            " #   Column         Non-Null Count  Dtype \n",
            "---  ------         --------------  ----- \n",
            " 0   TransactionID  10 non-null     int64 \n",
            " 1   Items          10 non-null     object\n",
            "dtypes: int64(1), object(1)\n",
            "memory usage: 288.0+ bytes\n"
          ]
        },
        {
          "output_type": "stream",
          "name": "stderr",
          "text": [
            "/usr/local/lib/python3.10/dist-packages/ipykernel/ipkernel.py:283: DeprecationWarning: `should_run_async` will not call `transform_cell` automatically in the future. Please pass the result to `transformed_cell` argument and any exception that happen during thetransform in `preprocessing_exc_tuple` in IPython 7.17 and above.\n",
            "  and should_run_async(code)\n"
          ]
        }
      ]
    },
    {
      "cell_type": "code",
      "source": [
        "df = pd.DataFrame(data)"
      ],
      "metadata": {
        "colab": {
          "base_uri": "https://localhost:8080/"
        },
        "id": "aMdfYPVbLZNh",
        "outputId": "a39a7fbd-3c69-40d1-ed9e-7a0488ae6970"
      },
      "execution_count": 74,
      "outputs": [
        {
          "output_type": "stream",
          "name": "stderr",
          "text": [
            "/usr/local/lib/python3.10/dist-packages/ipykernel/ipkernel.py:283: DeprecationWarning: `should_run_async` will not call `transform_cell` automatically in the future. Please pass the result to `transformed_cell` argument and any exception that happen during thetransform in `preprocessing_exc_tuple` in IPython 7.17 and above.\n",
            "  and should_run_async(code)\n"
          ]
        }
      ]
    },
    {
      "cell_type": "code",
      "source": [
        "# applying OHE\n",
        "\n",
        "oht = pd.get_dummies(df['Items'].apply(pd.Series).stack()).sum(level=0)"
      ],
      "metadata": {
        "colab": {
          "base_uri": "https://localhost:8080/"
        },
        "id": "N0kyY514LeJ6",
        "outputId": "93c81b46-2d69-42b4-cdd2-3de70d798715"
      },
      "execution_count": 80,
      "outputs": [
        {
          "output_type": "stream",
          "name": "stderr",
          "text": [
            "/usr/local/lib/python3.10/dist-packages/ipykernel/ipkernel.py:283: DeprecationWarning: `should_run_async` will not call `transform_cell` automatically in the future. Please pass the result to `transformed_cell` argument and any exception that happen during thetransform in `preprocessing_exc_tuple` in IPython 7.17 and above.\n",
            "  and should_run_async(code)\n",
            "<ipython-input-80-c7a368baf9c3>:3: FutureWarning: Using the level keyword in DataFrame and Series aggregations is deprecated and will be removed in a future version. Use groupby instead. df.sum(level=1) should use df.groupby(level=1).sum().\n",
            "  oht = pd.get_dummies(df['Items'].apply(pd.Series).stack()).sum(level=0)\n"
          ]
        }
      ]
    },
    {
      "cell_type": "code",
      "source": [
        "# generate item using apriori\n",
        "frequent_itemsets = apriori(oht, min_support=0.4, use_colnames=True)"
      ],
      "metadata": {
        "colab": {
          "base_uri": "https://localhost:8080/"
        },
        "id": "BONU5MjtLlli",
        "outputId": "11f62498-8a12-4c73-dac0-9f2e402a2eca"
      },
      "execution_count": 87,
      "outputs": [
        {
          "output_type": "stream",
          "name": "stderr",
          "text": [
            "/usr/local/lib/python3.10/dist-packages/ipykernel/ipkernel.py:283: DeprecationWarning: `should_run_async` will not call `transform_cell` automatically in the future. Please pass the result to `transformed_cell` argument and any exception that happen during thetransform in `preprocessing_exc_tuple` in IPython 7.17 and above.\n",
            "  and should_run_async(code)\n",
            "/usr/local/lib/python3.10/dist-packages/mlxtend/frequent_patterns/fpcommon.py:110: DeprecationWarning: DataFrames with non-bool types result in worse computationalperformance and their support might be discontinued in the future.Please use a DataFrame with bool type\n",
            "  warnings.warn(\n"
          ]
        }
      ]
    },
    {
      "cell_type": "code",
      "source": [
        "print(frequent_itemsets)"
      ],
      "metadata": {
        "colab": {
          "base_uri": "https://localhost:8080/"
        },
        "id": "080zZ-LnMD3l",
        "outputId": "078f661f-0ec8-4aa1-a8b6-b4095f336959"
      },
      "execution_count": 82,
      "outputs": [
        {
          "output_type": "stream",
          "name": "stdout",
          "text": [
            "    support   itemsets\n",
            "0       0.8        (A)\n",
            "1       0.8        (B)\n",
            "2       0.6        (C)\n",
            "3       0.6        (E)\n",
            "4       0.6     (B, A)\n",
            "5       0.4     (C, A)\n",
            "6       0.4     (E, A)\n",
            "7       0.6     (B, C)\n",
            "8       0.4     (B, E)\n",
            "9       0.4     (E, C)\n",
            "10      0.4  (B, C, A)\n",
            "11      0.4  (B, C, E)\n"
          ]
        },
        {
          "output_type": "stream",
          "name": "stderr",
          "text": [
            "/usr/local/lib/python3.10/dist-packages/ipykernel/ipkernel.py:283: DeprecationWarning: `should_run_async` will not call `transform_cell` automatically in the future. Please pass the result to `transformed_cell` argument and any exception that happen during thetransform in `preprocessing_exc_tuple` in IPython 7.17 and above.\n",
            "  and should_run_async(code)\n"
          ]
        }
      ]
    },
    {
      "cell_type": "code",
      "source": [
        "# ass rule gen\n",
        "\n",
        "association_rules = association_rules(frequent_itemsets, metric=\"lift\", min_threshold=1.0)"
      ],
      "metadata": {
        "colab": {
          "base_uri": "https://localhost:8080/"
        },
        "id": "juAesiWwYZtp",
        "outputId": "71fb8685-a787-428a-8b1d-5cb4bd725c15"
      },
      "execution_count": 83,
      "outputs": [
        {
          "output_type": "stream",
          "name": "stderr",
          "text": [
            "/usr/local/lib/python3.10/dist-packages/ipykernel/ipkernel.py:283: DeprecationWarning: `should_run_async` will not call `transform_cell` automatically in the future. Please pass the result to `transformed_cell` argument and any exception that happen during thetransform in `preprocessing_exc_tuple` in IPython 7.17 and above.\n",
            "  and should_run_async(code)\n"
          ]
        }
      ]
    },
    {
      "cell_type": "code",
      "source": [
        "print(association_rules)"
      ],
      "metadata": {
        "colab": {
          "base_uri": "https://localhost:8080/"
        },
        "id": "YO8uJJ7vYZoR",
        "outputId": "9ff4d7d6-c8fe-4661-ac25-212a82607b52"
      },
      "execution_count": 86,
      "outputs": [
        {
          "output_type": "stream",
          "name": "stdout",
          "text": [
            "   antecedents consequents  antecedent support  consequent support  support  \\\n",
            "0          (B)         (C)                 0.8                 0.6      0.6   \n",
            "1          (C)         (B)                 0.6                 0.8      0.6   \n",
            "2          (E)         (C)                 0.6                 0.6      0.4   \n",
            "3          (C)         (E)                 0.6                 0.6      0.4   \n",
            "4       (B, A)         (C)                 0.6                 0.6      0.4   \n",
            "5       (C, A)         (B)                 0.4                 0.8      0.4   \n",
            "6          (B)      (C, A)                 0.8                 0.4      0.4   \n",
            "7          (C)      (B, A)                 0.6                 0.6      0.4   \n",
            "8       (B, C)         (E)                 0.6                 0.6      0.4   \n",
            "9       (B, E)         (C)                 0.4                 0.6      0.4   \n",
            "10      (E, C)         (B)                 0.4                 0.8      0.4   \n",
            "11         (B)      (E, C)                 0.8                 0.4      0.4   \n",
            "12         (C)      (B, E)                 0.6                 0.4      0.4   \n",
            "13         (E)      (B, C)                 0.6                 0.6      0.4   \n",
            "\n",
            "    confidence      lift  leverage  conviction  zhangs_metric  \n",
            "0     0.750000  1.250000      0.12         1.6       1.000000  \n",
            "1     1.000000  1.250000      0.12         inf       0.500000  \n",
            "2     0.666667  1.111111      0.04         1.2       0.250000  \n",
            "3     0.666667  1.111111      0.04         1.2       0.250000  \n",
            "4     0.666667  1.111111      0.04         1.2       0.250000  \n",
            "5     1.000000  1.250000      0.08         inf       0.333333  \n",
            "6     0.500000  1.250000      0.08         1.2       1.000000  \n",
            "7     0.666667  1.111111      0.04         1.2       0.250000  \n",
            "8     0.666667  1.111111      0.04         1.2       0.250000  \n",
            "9     1.000000  1.666667      0.16         inf       0.666667  \n",
            "10    1.000000  1.250000      0.08         inf       0.333333  \n",
            "11    0.500000  1.250000      0.08         1.2       1.000000  \n",
            "12    0.666667  1.666667      0.16         1.8       1.000000  \n",
            "13    0.666667  1.111111      0.04         1.2       0.250000  \n"
          ]
        },
        {
          "output_type": "stream",
          "name": "stderr",
          "text": [
            "/usr/local/lib/python3.10/dist-packages/ipykernel/ipkernel.py:283: DeprecationWarning: `should_run_async` will not call `transform_cell` automatically in the future. Please pass the result to `transformed_cell` argument and any exception that happen during thetransform in `preprocessing_exc_tuple` in IPython 7.17 and above.\n",
            "  and should_run_async(code)\n"
          ]
        }
      ]
    }
  ]
}