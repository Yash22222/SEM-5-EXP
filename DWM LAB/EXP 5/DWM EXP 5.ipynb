{
 "cells":[
  {
   "cell_type":"markdown",
   "source":[
    "#### DWML EXP5 - Using Open Source Tools Implement Association Mining Algorithms"
   ],
   "attachments":{
    
   },
   "metadata":{
    "datalore":{
     "node_id":"MQayQXdolh8n0u1xvNRwl7",
     "type":"MD",
     "hide_input_from_viewers":true,
     "hide_output_from_viewers":true
    }
   }
  },
  {
   "cell_type":"code",
   "source":[
    "import pandas as pd\n",
    "import apyori"
   ],
   "execution_count":41,
   "outputs":[
    {
     "name":"stderr",
     "text":[
      "\/opt\/python\/envs\/default\/lib\/python3.8\/site-packages\/ipykernel\/ipkernel.py:283: DeprecationWarning: `should_run_async` will not call `transform_cell` automatically in the future. Please pass the result to `transformed_cell` argument and any exception that happen during thetransform in `preprocessing_exc_tuple` in IPython 7.17 and above.\n",
      "  and should_run_async(code)\n"
     ],
     "output_type":"stream"
    }
   ],
   "metadata":{
    "datalore":{
     "node_id":"YdtdYvnw76bxWbsUGMx6bs",
     "type":"CODE",
     "hide_input_from_viewers":true,
     "hide_output_from_viewers":true
    }
   }
  },
  {
   "cell_type":"code",
   "source":[
    "# Sample Dataset\n",
    "\n",
    "transactions = [\n",
    "    {\"milk\", \"bread\", \"eggs\"},\n",
    "    {\"beer\", \"chips\", \"soda\"},\n",
    "    {\"milk\", \"diapers\", \"beer\"},\n",
    "    {\"bread\", \"milk\", \"diapers\"},\n",
    "    {\"bread\", \"milk\", \"soda\"}\n",
    "]"
   ],
   "execution_count":42,
   "outputs":[
    {
     "name":"stderr",
     "text":[
      "\/opt\/python\/envs\/default\/lib\/python3.8\/site-packages\/ipykernel\/ipkernel.py:283: DeprecationWarning: `should_run_async` will not call `transform_cell` automatically in the future. Please pass the result to `transformed_cell` argument and any exception that happen during thetransform in `preprocessing_exc_tuple` in IPython 7.17 and above.\n",
      "  and should_run_async(code)\n"
     ],
     "output_type":"stream"
    }
   ],
   "metadata":{
    "datalore":{
     "node_id":"dBCVij5wSGqkGN03JZDG17",
     "type":"CODE",
     "hide_input_from_viewers":true,
     "hide_output_from_viewers":true
    }
   }
  },
  {
   "cell_type":"code",
   "source":[
    "df = pd.DataFrame(transactions)"
   ],
   "execution_count":43,
   "outputs":[
    {
     "name":"stderr",
     "text":[
      "\/opt\/python\/envs\/default\/lib\/python3.8\/site-packages\/ipykernel\/ipkernel.py:283: DeprecationWarning: `should_run_async` will not call `transform_cell` automatically in the future. Please pass the result to `transformed_cell` argument and any exception that happen during thetransform in `preprocessing_exc_tuple` in IPython 7.17 and above.\n",
      "  and should_run_async(code)\n"
     ],
     "output_type":"stream"
    }
   ],
   "metadata":{
    "datalore":{
     "node_id":"pZSB2G2CQHWTqzlpWWYEXJ",
     "type":"CODE",
     "hide_input_from_viewers":true,
     "hide_output_from_viewers":true
    }
   }
  },
  {
   "cell_type":"code",
   "source":[
    "df.head()"
   ],
   "execution_count":44,
   "outputs":[
    {
     "name":"stderr",
     "text":[
      "\/opt\/python\/envs\/default\/lib\/python3.8\/site-packages\/ipykernel\/ipkernel.py:283: DeprecationWarning: `should_run_async` will not call `transform_cell` automatically in the future. Please pass the result to `transformed_cell` argument and any exception that happen during thetransform in `preprocessing_exc_tuple` in IPython 7.17 and above.\n",
      "  and should_run_async(code)\n"
     ],
     "output_type":"stream"
    },
    {
     "data":{
      "text\/html":[
       "<div>\n",
       "<style scoped>\n",
       "    .dataframe tbody tr th:only-of-type {\n",
       "        vertical-align: middle;\n",
       "    }\n",
       "\n",
       "    .dataframe tbody tr th {\n",
       "        vertical-align: top;\n",
       "    }\n",
       "\n",
       "    .dataframe thead th {\n",
       "        text-align: right;\n",
       "    }\n",
       "<\/style>\n",
       "<table border=\"1\" class=\"dataframe\">\n",
       "  <thead>\n",
       "    <tr style=\"text-align: right;\">\n",
       "      <th><\/th>\n",
       "      <th>0<\/th>\n",
       "      <th>1<\/th>\n",
       "      <th>2<\/th>\n",
       "    <\/tr>\n",
       "  <\/thead>\n",
       "  <tbody>\n",
       "    <tr>\n",
       "      <th>0<\/th>\n",
       "      <td>bread<\/td>\n",
       "      <td>milk<\/td>\n",
       "      <td>eggs<\/td>\n",
       "    <\/tr>\n",
       "    <tr>\n",
       "      <th>1<\/th>\n",
       "      <td>chips<\/td>\n",
       "      <td>beer<\/td>\n",
       "      <td>soda<\/td>\n",
       "    <\/tr>\n",
       "    <tr>\n",
       "      <th>2<\/th>\n",
       "      <td>diapers<\/td>\n",
       "      <td>beer<\/td>\n",
       "      <td>milk<\/td>\n",
       "    <\/tr>\n",
       "    <tr>\n",
       "      <th>3<\/th>\n",
       "      <td>diapers<\/td>\n",
       "      <td>bread<\/td>\n",
       "      <td>milk<\/td>\n",
       "    <\/tr>\n",
       "    <tr>\n",
       "      <th>4<\/th>\n",
       "      <td>bread<\/td>\n",
       "      <td>soda<\/td>\n",
       "      <td>milk<\/td>\n",
       "    <\/tr>\n",
       "  <\/tbody>\n",
       "<\/table>\n",
       "<\/div>"
      ]
     },
     "metadata":{
      
     },
     "output_type":"display_data"
    }
   ],
   "metadata":{
    "datalore":{
     "node_id":"n8ry3dEXtOlYCOWpJrEAVl",
     "type":"CODE",
     "hide_input_from_viewers":true,
     "hide_output_from_viewers":true
    }
   }
  },
  {
   "cell_type":"code",
   "source":[
    "# Generate Frequent Item Sets Using Apriori\n",
    "\n",
    "rules = apyori.apriori(transactions, min_support=0.1, min_confidence=0.5)"
   ],
   "execution_count":45,
   "outputs":[
    {
     "name":"stderr",
     "text":[
      "\/opt\/python\/envs\/default\/lib\/python3.8\/site-packages\/ipykernel\/ipkernel.py:283: DeprecationWarning: `should_run_async` will not call `transform_cell` automatically in the future. Please pass the result to `transformed_cell` argument and any exception that happen during thetransform in `preprocessing_exc_tuple` in IPython 7.17 and above.\n",
      "  and should_run_async(code)\n"
     ],
     "output_type":"stream"
    }
   ],
   "metadata":{
    "datalore":{
     "node_id":"eubWGpRFAuYdKLafKtqjAE",
     "type":"CODE",
     "hide_input_from_viewers":true,
     "hide_output_from_viewers":true
    }
   }
  },
  {
   "cell_type":"code",
   "source":[
    "for rule in rules:\n",
    "    print(rule)"
   ],
   "execution_count":46,
   "outputs":[
    {
     "name":"stdout",
     "text":[
      "RelationRecord(items=frozenset({'bread'}), support=0.6, ordered_statistics=[OrderedStatistic(items_base=frozenset(), items_add=frozenset({'bread'}), confidence=0.6, lift=1.0)])\n",
      "RelationRecord(items=frozenset({'milk'}), support=0.8, ordered_statistics=[OrderedStatistic(items_base=frozenset(), items_add=frozenset({'milk'}), confidence=0.8, lift=1.0)])\n",
      "RelationRecord(items=frozenset({'chips', 'beer'}), support=0.2, ordered_statistics=[OrderedStatistic(items_base=frozenset({'beer'}), items_add=frozenset({'chips'}), confidence=0.5, lift=2.5), OrderedStatistic(items_base=frozenset({'chips'}), items_add=frozenset({'beer'}), confidence=1.0, lift=2.5)])\n",
      "RelationRecord(items=frozenset({'diapers', 'beer'}), support=0.2, ordered_statistics=[OrderedStatistic(items_base=frozenset({'beer'}), items_add=frozenset({'diapers'}), confidence=0.5, lift=1.25), OrderedStatistic(items_base=frozenset({'diapers'}), items_add=frozenset({'beer'}), confidence=0.5, lift=1.25)])\n",
      "RelationRecord(items=frozenset({'beer', 'milk'}), support=0.2, ordered_statistics=[OrderedStatistic(items_base=frozenset({'beer'}), items_add=frozenset({'milk'}), confidence=0.5, lift=0.625)])\n",
      "RelationRecord(items=frozenset({'beer', 'soda'}), support=0.2, ordered_statistics=[OrderedStatistic(items_base=frozenset({'beer'}), items_add=frozenset({'soda'}), confidence=0.5, lift=1.25), OrderedStatistic(items_base=frozenset({'soda'}), items_add=frozenset({'beer'}), confidence=0.5, lift=1.25)])\n",
      "RelationRecord(items=frozenset({'diapers', 'bread'}), support=0.2, ordered_statistics=[OrderedStatistic(items_base=frozenset({'diapers'}), items_add=frozenset({'bread'}), confidence=0.5, lift=0.8333333333333334)])\n",
      "RelationRecord(items=frozenset({'bread', 'eggs'}), support=0.2, ordered_statistics=[OrderedStatistic(items_base=frozenset({'eggs'}), items_add=frozenset({'bread'}), confidence=1.0, lift=1.6666666666666667)])\n",
      "RelationRecord(items=frozenset({'bread', 'milk'}), support=0.6, ordered_statistics=[OrderedStatistic(items_base=frozenset(), items_add=frozenset({'bread', 'milk'}), confidence=0.6, lift=1.0), OrderedStatistic(items_base=frozenset({'bread'}), items_add=frozenset({'milk'}), confidence=1.0, lift=1.25), OrderedStatistic(items_base=frozenset({'milk'}), items_add=frozenset({'bread'}), confidence=0.7499999999999999, lift=1.2499999999999998)])\n",
      "RelationRecord(items=frozenset({'bread', 'soda'}), support=0.2, ordered_statistics=[OrderedStatistic(items_base=frozenset({'soda'}), items_add=frozenset({'bread'}), confidence=0.5, lift=0.8333333333333334)])\n",
      "RelationRecord(items=frozenset({'chips', 'soda'}), support=0.2, ordered_statistics=[OrderedStatistic(items_base=frozenset({'chips'}), items_add=frozenset({'soda'}), confidence=1.0, lift=2.5), OrderedStatistic(items_base=frozenset({'soda'}), items_add=frozenset({'chips'}), confidence=0.5, lift=2.5)])\n",
      "RelationRecord(items=frozenset({'diapers', 'milk'}), support=0.4, ordered_statistics=[OrderedStatistic(items_base=frozenset({'diapers'}), items_add=frozenset({'milk'}), confidence=1.0, lift=1.25), OrderedStatistic(items_base=frozenset({'milk'}), items_add=frozenset({'diapers'}), confidence=0.5, lift=1.25)])\n",
      "RelationRecord(items=frozenset({'eggs', 'milk'}), support=0.2, ordered_statistics=[OrderedStatistic(items_base=frozenset({'eggs'}), items_add=frozenset({'milk'}), confidence=1.0, lift=1.25)])\n",
      "RelationRecord(items=frozenset({'soda', 'milk'}), support=0.2, ordered_statistics=[OrderedStatistic(items_base=frozenset({'soda'}), items_add=frozenset({'milk'}), confidence=0.5, lift=0.625)])\n",
      "RelationRecord(items=frozenset({'chips', 'beer', 'soda'}), support=0.2, ordered_statistics=[OrderedStatistic(items_base=frozenset({'beer'}), items_add=frozenset({'chips', 'soda'}), confidence=0.5, lift=2.5), OrderedStatistic(items_base=frozenset({'chips'}), items_add=frozenset({'beer', 'soda'}), confidence=1.0, lift=5.0), OrderedStatistic(items_base=frozenset({'soda'}), items_add=frozenset({'chips', 'beer'}), confidence=0.5, lift=2.5), OrderedStatistic(items_base=frozenset({'chips', 'beer'}), items_add=frozenset({'soda'}), confidence=1.0, lift=2.5), OrderedStatistic(items_base=frozenset({'beer', 'soda'}), items_add=frozenset({'chips'}), confidence=1.0, lift=5.0), OrderedStatistic(items_base=frozenset({'chips', 'soda'}), items_add=frozenset({'beer'}), confidence=1.0, lift=2.5)])\n",
      "RelationRecord(items=frozenset({'diapers', 'beer', 'milk'}), support=0.2, ordered_statistics=[OrderedStatistic(items_base=frozenset({'beer'}), items_add=frozenset({'diapers', 'milk'}), confidence=0.5, lift=1.25), OrderedStatistic(items_base=frozenset({'diapers'}), items_add=frozenset({'beer', 'milk'}), confidence=0.5, lift=2.5), OrderedStatistic(items_base=frozenset({'diapers', 'beer'}), items_add=frozenset({'milk'}), confidence=1.0, lift=1.25), OrderedStatistic(items_base=frozenset({'beer', 'milk'}), items_add=frozenset({'diapers'}), confidence=1.0, lift=2.5), OrderedStatistic(items_base=frozenset({'diapers', 'milk'}), items_add=frozenset({'beer'}), confidence=0.5, lift=1.25)])\n",
      "RelationRecord(items=frozenset({'diapers', 'bread', 'milk'}), support=0.2, ordered_statistics=[OrderedStatistic(items_base=frozenset({'diapers'}), items_add=frozenset({'bread', 'milk'}), confidence=0.5, lift=0.8333333333333334), OrderedStatistic(items_base=frozenset({'diapers', 'bread'}), items_add=frozenset({'milk'}), confidence=1.0, lift=1.25), OrderedStatistic(items_base=frozenset({'diapers', 'milk'}), items_add=frozenset({'bread'}), confidence=0.5, lift=0.8333333333333334)])\n",
      "RelationRecord(items=frozenset({'bread', 'milk', 'eggs'}), support=0.2, ordered_statistics=[OrderedStatistic(items_base=frozenset({'eggs'}), items_add=frozenset({'bread', 'milk'}), confidence=1.0, lift=1.6666666666666667), OrderedStatistic(items_base=frozenset({'bread', 'eggs'}), items_add=frozenset({'milk'}), confidence=1.0, lift=1.25), OrderedStatistic(items_base=frozenset({'eggs', 'milk'}), items_add=frozenset({'bread'}), confidence=1.0, lift=1.6666666666666667)])\n",
      "RelationRecord(items=frozenset({'bread', 'soda', 'milk'}), support=0.2, ordered_statistics=[OrderedStatistic(items_base=frozenset({'soda'}), items_add=frozenset({'bread', 'milk'}), confidence=0.5, lift=0.8333333333333334), OrderedStatistic(items_base=frozenset({'bread', 'soda'}), items_add=frozenset({'milk'}), confidence=1.0, lift=1.25), OrderedStatistic(items_base=frozenset({'soda', 'milk'}), items_add=frozenset({'bread'}), confidence=1.0, lift=1.6666666666666667)])\n"
     ],
     "output_type":"stream"
    },
    {
     "name":"stderr",
     "text":[
      "\/opt\/python\/envs\/default\/lib\/python3.8\/site-packages\/ipykernel\/ipkernel.py:283: DeprecationWarning: `should_run_async` will not call `transform_cell` automatically in the future. Please pass the result to `transformed_cell` argument and any exception that happen during thetransform in `preprocessing_exc_tuple` in IPython 7.17 and above.\n",
      "  and should_run_async(code)\n"
     ],
     "output_type":"stream"
    }
   ],
   "metadata":{
    "datalore":{
     "node_id":"1147riASp2dx77aNWuWqS8",
     "type":"CODE",
     "hide_input_from_viewers":true,
     "hide_output_from_viewers":true
    }
   }
  }
 ],
 "metadata":{
  "kernelspec":{
   "display_name":"Python",
   "language":"python",
   "name":"python"
  },
  "datalore":{
   "computation_mode":"JUPYTER",
   "package_manager":"pip",
   "base_environment":"default",
   "packages":[
    {
     "name":"mlxtend",
     "source":"PIP"
    },
    {
     "name":"apyori",
     "source":"PIP"
    }
   ],
   "report_row_ids":[
    
   ],
   "version":3
  }
 },
 "nbformat":4,
 "nbformat_minor":4
}